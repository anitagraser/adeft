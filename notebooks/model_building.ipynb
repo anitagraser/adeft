{
 "cells": [
  {
   "cell_type": "markdown",
   "metadata": {},
   "source": [
    "# Building Adeft Models\n",
    "\n",
    "In the [introduction](introduction.ipynb) notebook, we went over how to use Adeft's pretrained disambiguation models. This notebook is for users who would like to build their own models or simply to better understand the inner workings of adeft. We will go through the steps of creating a model for the shortform IR."
   ]
  },
  {
   "cell_type": "markdown",
   "metadata": {},
   "source": [
    "## Mining longform expansions from text corpora\n",
    "\n",
    "The first step in building a model is assembling a corpus of texts containing mentions of the desired shortform. Adeft does not provide tools for text acquisition. We assume users will be able to supply their own texts. For the pretrained models, texts are extracted from the [INDRA Database](https://github.com/indralab/indra_db) which is not publically available. We have built the [Adeft App](https://github.com/indralab/adeft_app) based on adeft to build models based on content from the INDRA database. The Adeft App is open source and users are encouraged to look over it for inspiration or fork and modify it for their own purposes. For this tutorial we will use a sample of 500 texts from the over 10,000 texts used to build the pretrained model."
   ]
  },
  {
   "cell_type": "code",
   "execution_count": 1,
   "metadata": {},
   "outputs": [],
   "source": [
    "import json\n",
    "\n",
    "with open('data/example_texts.json') as f:\n",
    "    ir_texts = json.load(f)"
   ]
  },
  {
   "cell_type": "markdown",
   "metadata": {},
   "source": [
    "Adeft uses an implementation of the [Acromine](http://www.chokkan.org/research/acromine/) algorithm developed by [NaCTeM](http://www.nactem.ac.uk/index.php) to identify longform expansions for a given shortform within a corpus of texts. This is done by searching for defining patterns (DPs) for the shortform within the texts. Statistical co-occurence frequencies are used to identify the correct expansions corresponding to the defining patterns. Possible expansions for DPs in the sentence before last are\n",
    "* patterns\n",
    "* defining patterns\n",
    "* for defining patterns\n",
    "* searching for defining patterns\n",
    "* etc...\n",
    "\n",
    "A machine cannot apriori tell what the correct expansion is from a single sentence, but by looking at many DPs within an appropriate corpus of texts it would be able to tell that ***defining patterns*** occurs much more frequently than ***for defining patterns*** and that ***patterns*** occurs rarely without ***defining*** preceding it. See the [Appendix](#Appendix) of this notebook for more details on the Acromine algorithm and Adeft's implementation of it."
   ]
  },
  {
   "cell_type": "markdown",
   "metadata": {},
   "source": [
    "Longforms expansions can be mined from texts with Adeft's DeftMiner objects. The following cell shows how to initialize a DeftMiner for a given longform and process a list of texts."
   ]
  },
  {
   "cell_type": "code",
   "execution_count": 74,
   "metadata": {},
   "outputs": [],
   "source": [
    "from adeft.discover import DeftMiner\n",
    "\n",
    "ir_miner = DeftMiner('IR')\n",
    "ir_miner.process_texts(ir_texts)"
   ]
  },
  {
   "cell_type": "markdown",
   "metadata": {},
   "source": [
    "A score will be produced for each possible longform expansion. The following shows how to inspect top scoring expansions."
   ]
  },
  {
   "cell_type": "code",
   "execution_count": 75,
   "metadata": {},
   "outputs": [
    {
     "data": {
      "text/plain": [
       "[('ionizing radiation', 132.3956834532374),\n",
       " ('insulin resistance', 125.3089430894309),\n",
       " ('ischemia reperfusion', 73.12328767123287),\n",
       " ('insulin receptor', 69.90697674418604),\n",
       " ('radiation', 48.84269662921349),\n",
       " ('to ionizing radiation', 36.46511627906977),\n",
       " ('the insulin receptor', 30.176470588235293),\n",
       " ('irradiation', 20.782608695652172),\n",
       " ('of insulin resistance', 17.263157894736846),\n",
       " ('reperfusion', 16.813953488372093)]"
      ]
     },
     "execution_count": 75,
     "metadata": {},
     "output_type": "execute_result"
    }
   ],
   "source": [
    "ir_miner.top(10)"
   ]
  },
  {
   "cell_type": "markdown",
   "metadata": {},
   "source": [
    "We see that the top scoring expansions do not immediately give us correct expansions. A method is implemented to extract the best potential longforms from this list. For more detail on how this works see the [Appendix](#Appendix) of this notebook.\n",
    "\n",
    "We see in the following cell that this method has done a good job of identifying correct longform expansions."
   ]
  },
  {
   "cell_type": "code",
   "execution_count": 76,
   "metadata": {
    "scrolled": true
   },
   "outputs": [
    {
     "data": {
      "text/plain": [
       "[('ionizing radiation', 132.3956834532374),\n",
       " ('insulin resistance', 125.3089430894309),\n",
       " ('ischemia reperfusion', 73.12328767123287),\n",
       " ('insulin receptor', 69.90697674418604),\n",
       " ('irradiation', 20.782608695652172),\n",
       " ('infrared', 15.777777777777779),\n",
       " ('immunoreactive', 6.0)]"
      ]
     },
     "execution_count": 76,
     "metadata": {},
     "output_type": "execute_result"
    }
   ],
   "source": [
    "ir_miner.get_longforms(cutoff=5)"
   ]
  },
  {
   "cell_type": "markdown",
   "metadata": {},
   "source": [
    "To build models, users must produce a dictionary mapping longforms to desired grounding labels. We call these grounding maps. For the pretrained models we use labels consisting of a [Name Space](introduction.ipynb#Name-Spaces) and corresponding ID separated by a colon. In the [Adeft App](https://github.com/indralab/adeft_app) we've implemented a simple GUI to assist in building these dictionaries."
   ]
  },
  {
   "cell_type": "code",
   "execution_count": 12,
   "metadata": {},
   "outputs": [],
   "source": [
    "grounding_map = {'ionizing radiation': 'MESH:D011839',\n",
    "                 'insulin resistance': 'MESH:D007333',\n",
    "                 'ischemia reperfusion': 'MESH:D015427',\n",
    "                 'insulin receptor': 'HGNC:6091',\n",
    "                 'irradiation': 'MESH:D011839',\n",
    "                 'infrared': 'ungrounded',\n",
    "                 'immunoreactive': 'ungrounded'}\n"
   ]
  },
  {
   "cell_type": "markdown",
   "metadata": {},
   "source": [
    "Adeft is then able to automatically produce labels for some of the texts by searching for defining patterns matching one of these longform expansions. This is done with the DeftCorpusBuilder object. To initialize this object, we need a dictionary mapping shortforms to grounding maps as created above. Dictionaries containing grounding maps for multiple shortforms may be used to produce models for multiple synonymous shortforms."
   ]
  },
  {
   "cell_type": "code",
   "execution_count": 77,
   "metadata": {},
   "outputs": [],
   "source": [
    "grounding_dict = {'IR': grounding_map}"
   ]
  },
  {
   "cell_type": "markdown",
   "metadata": {},
   "source": [
    "The DeftCorpusBuilder can then be initialized as follows"
   ]
  },
  {
   "cell_type": "code",
   "execution_count": 78,
   "metadata": {},
   "outputs": [],
   "source": [
    "from adeft.modeling.corpora import DeftCorpusBuilder\n",
    "\n",
    "cb = DeftCorpusBuilder(grounding_dict)"
   ]
  },
  {
   "cell_type": "markdown",
   "metadata": {},
   "source": [
    "The following cell shows how to label some of the data using the DeftCorpusBuilder. "
   ]
  },
  {
   "cell_type": "code",
   "execution_count": 21,
   "metadata": {},
   "outputs": [],
   "source": [
    "corpus = ir_cb.build_from_texts(ir_texts)\n",
    "texts, labels = zip(*corpus)"
   ]
  },
  {
   "cell_type": "markdown",
   "metadata": {},
   "source": [
    "The output, corpus, contains a list of tuples of which the first element is a text and the second element is a label taken from the values of a grounding map."
   ]
  },
  {
   "cell_type": "code",
   "execution_count": 59,
   "metadata": {},
   "outputs": [],
   "source": [
    "%%capture\n",
    "from adeft.modeling.classify import DeftClassifier\n",
    "\n",
    "dc = DeftClassifier(['IR'], ['MESH:D011839', 'HGNC:6091'])\n",
    "param_grid = {'C': [10.0], 'max_features': [1000]}\n",
    "\n",
    "dc.cv(texts, labels, param_grid, cv=5)"
   ]
  },
  {
   "cell_type": "code",
   "execution_count": 60,
   "metadata": {},
   "outputs": [
    {
     "data": {
      "text/plain": [
       "{'label_distribution': {'MESH:D007333': 88,\n",
       "  'MESH:D011839': 121,\n",
       "  'HGNC:6091': 70,\n",
       "  'MESH:D015427': 44,\n",
       "  'ungrounded': 17},\n",
       " 'f1': {'mean': 0.9130277433366194, 'std': 0.02217757288203372},\n",
       " 'precision': {'mean': 0.8883437944263142, 'std': 0.023475627649764973},\n",
       " 'recall': {'mean': 0.9426450742240217, 'std': 0.038024603397752606}}"
      ]
     },
     "execution_count": 60,
     "metadata": {},
     "output_type": "execute_result"
    }
   ],
   "source": [
    "dc.stats"
   ]
  },
  {
   "cell_type": "code",
   "execution_count": 61,
   "metadata": {},
   "outputs": [],
   "source": [
    "names = {'MESH:D011839': 'Radiation, Ionizing',\n",
    "         'MESH:D007333': 'Insulin Resistance',\n",
    "         'HGNC:6091': 'INSR',\n",
    "         'MESH:D015427': 'Reperfusion Injury'}"
   ]
  },
  {
   "cell_type": "code",
   "execution_count": 62,
   "metadata": {},
   "outputs": [],
   "source": [
    "from adeft.disambiguate import DeftDisambiguator\n",
    "\n",
    "my_disambiguator = DeftDisambiguator(dc, grounding_dict, names)"
   ]
  },
  {
   "cell_type": "code",
   "execution_count": 63,
   "metadata": {},
   "outputs": [
    {
     "name": "stdout",
     "output_type": "stream",
     "text": [
      "Disambiguation model for IR\n",
      "\n",
      "Produces the disambiguations:\n",
      "\tRadiation, Ionizing*\tMESH:D011839\n",
      "\tInsulin Resistance\tMESH:D007333\n",
      "\tINSR*\tHGNC:6091\n",
      "\tReperfusion Injury\tMESH:D015427\n",
      "\n",
      "Training data had class balance:\n",
      "\tRadiation, Ionizing*\t121\n",
      "\tInsulin Resistance\t88\n",
      "\tINSR*\t70\n",
      "\tReperfusion Injury\t44\n",
      "\tUngrounded\t17\n",
      "\n",
      "Classification Metrics:\n",
      "\tF1 score:\t0.91303\n",
      "\tPrecision:\t0.88834\n",
      "\tRecall:\t\t0.94265\n",
      "\n",
      "* Positive labels\n",
      "See Docstring for explanation\n",
      "\n"
     ]
    }
   ],
   "source": [
    "print(my_disambiguator.info())"
   ]
  },
  {
   "cell_type": "code",
   "execution_count": 64,
   "metadata": {},
   "outputs": [],
   "source": [
    "disambs = my_disambiguator.disambiguate(ir_texts)"
   ]
  },
  {
   "cell_type": "code",
   "execution_count": 65,
   "metadata": {},
   "outputs": [],
   "source": [
    "example1 = ('Ionizing radiation (IR) is radiation that carries enough energy to detach electrons'\n",
    "            ' from atoms or molecules')"
   ]
  },
  {
   "cell_type": "code",
   "execution_count": 66,
   "metadata": {},
   "outputs": [
    {
     "data": {
      "text/plain": [
       "('MESH:D011839',\n",
       " 'Radiation, Ionizing',\n",
       " {'MESH:D007333': 0.0,\n",
       "  'HGNC:6091': 0.0,\n",
       "  'MESH:D011839': 1.0,\n",
       "  'MESH:D015427': 0.0,\n",
       "  'ungrounded': 0.0})"
      ]
     },
     "execution_count": 66,
     "metadata": {},
     "output_type": "execute_result"
    }
   ],
   "source": [
    "my_disambiguator.disambiguate(example1)"
   ]
  },
  {
   "cell_type": "code",
   "execution_count": 55,
   "metadata": {},
   "outputs": [],
   "source": [
    "example2 = 'IR is radiation that carries enough energy to detach electrons from atoms or molecules'"
   ]
  },
  {
   "cell_type": "code",
   "execution_count": 67,
   "metadata": {},
   "outputs": [
    {
     "data": {
      "text/plain": [
       "('MESH:D011839',\n",
       " 'Radiation, Ionizing',\n",
       " {'HGNC:6091': 0.028012806325265496,\n",
       "  'MESH:D007333': 0.06782596101579537,\n",
       "  'MESH:D011839': 0.6747833318711274,\n",
       "  'MESH:D015427': 0.05476828511747727,\n",
       "  'ungrounded': 0.17460961567033445})"
      ]
     },
     "execution_count": 67,
     "metadata": {},
     "output_type": "execute_result"
    }
   ],
   "source": [
    "my_disambiguator.disambiguate(example2)"
   ]
  },
  {
   "cell_type": "code",
   "execution_count": 68,
   "metadata": {},
   "outputs": [],
   "source": [
    "with open('data/example.txt') as f:\n",
    "    example3 = f.read()"
   ]
  },
  {
   "cell_type": "code",
   "execution_count": 69,
   "metadata": {},
   "outputs": [
    {
     "data": {
      "text/plain": [
       "('HGNC:6091',\n",
       " 'INSR',\n",
       " {'HGNC:6091': 0.9731105195106295,\n",
       "  'MESH:D007333': 0.026097963632176976,\n",
       "  'MESH:D011839': 0.0001837286894577103,\n",
       "  'MESH:D015427': 0.00024853003937873883,\n",
       "  'ungrounded': 0.00035925812835693017})"
      ]
     },
     "execution_count": 69,
     "metadata": {},
     "output_type": "execute_result"
    }
   ],
   "source": [
    "my_disambiguator.disambiguate(example3)"
   ]
  },
  {
   "cell_type": "markdown",
   "metadata": {},
   "source": [
    "## Appendix"
   ]
  },
  {
   "cell_type": "code",
   "execution_count": null,
   "metadata": {},
   "outputs": [],
   "source": []
  }
 ],
 "metadata": {
  "kernelspec": {
   "display_name": "Python 3",
   "language": "python",
   "name": "python3"
  },
  "language_info": {
   "codemirror_mode": {
    "name": "ipython",
    "version": 3
   },
   "file_extension": ".py",
   "mimetype": "text/x-python",
   "name": "python",
   "nbconvert_exporter": "python",
   "pygments_lexer": "ipython3",
   "version": "3.7.2"
  }
 },
 "nbformat": 4,
 "nbformat_minor": 2
}
