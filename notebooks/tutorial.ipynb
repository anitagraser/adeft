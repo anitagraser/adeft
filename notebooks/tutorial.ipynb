{
 "cells": [
  {
   "cell_type": "markdown",
   "metadata": {},
   "source": [
    "# Adeft\n",
    "\n",
    "Acromine based Disambiguation of Entities From Text context. A utility for building models to disambiguate acronyms and other abbreviations of biological terms mentioned in the scientific literature. It uses an implementation of the [Acromine](http://www.chokkan.org/research/acromine/) algorithm developed by the [NaCTeM](http://www.nactem.ac.uk/index.php) at the University of Manchester to identify possible longform expansions for shortforms in text corpora. Allows building of models to disambiguate shortforms in literature based on the context in which they appear. A growing number of pretrained disambiguation models are available for download through Adeft."
   ]
  },
  {
   "cell_type": "markdown",
   "metadata": {},
   "source": [
    "## Installation\n",
    "\n",
    "Adeft is available on PyPI and works with Python versions 3.5 and above. It can be installed with the command\n",
    "```bash\n",
    "$ pip install adeft\n",
    "```\n",
    "\n",
    "Pretrained disambiguation models can be downloaded with the command\n",
    "```bash\n",
    "$ python -m adeft.download\n",
    "```\n",
    "\n",
    "Models will be stored in the users home directory in a hidden folder named *.adeft_models*\n",
    "\n",
    "To update existing models, the user can run\n",
    "```bash\n",
    "$ python -m adeft.download --update\n",
    "```"
   ]
  },
  {
   "cell_type": "markdown",
   "metadata": {},
   "source": [
    "## Using pretrained models\n",
    "\n",
    "A dictionary listing shortforms with available models can be imported as follows\n"
   ]
  },
  {
   "cell_type": "code",
   "execution_count": 1,
   "metadata": {},
   "outputs": [
    {
     "name": "stdout",
     "output_type": "stream",
     "text": [
      "{'PC': 'PC', 'EMT': 'EMT', 'SP': 'SP', 'PE': 'PE', 'ROS': 'ROS', 'NP': 'NP:NP_S', 'NPs': 'NP:NP_S', 'MS': 'MS', 'MT': 'MT', 'BP': 'BP', 'GH': 'GH', 'AD': 'AD', 'GT': 'GT', 'DA': 'DA', 'GR': 'GR', 'IR': 'IR', 'HK2': 'HK2', 'ARF': 'ARF', 'CS': 'CS', 'EC': 'EC', 'STD': 'STD', 'PD1': 'PD1', 'TGH': 'TGH', 'PKD': 'PKD', 'RA': 'RA', 'PCP': 'PCP', 'PI': 'PI', 'PS': 'PS', 'PA': 'PA', 'MB': 'MB', 'HA': 'HA', 'AR': 'AR', 'HR': 'HR', 'NE': 'NE', 'UBC': 'UBC', 'GSC': 'GSC', 'AA': 'AA', 'NIS': 'NIS', 'GC': 'GC', 'CM': 'CM', 'RB': 'RB:R_B', 'Rb': 'RB:R_B', 'LH': 'LH', 'ER': 'ER', 'TF': 'TF', 'PGP': 'PGP', 'MCT': 'MCT', 'TG': 'TG'}\n"
     ]
    }
   ],
   "source": [
    "from adeft import available_shortforms\n",
    "print(available_shortforms)"
   ]
  },
  {
   "cell_type": "markdown",
   "metadata": {},
   "source": [
    "The dictionary maps shortforms to model names. It's possible and often desirable for synonymous shortforms to share a model. For example NP and NPs (often standing for nanoparticles) share a model."
   ]
  },
  {
   "cell_type": "code",
   "execution_count": 2,
   "metadata": {},
   "outputs": [
    {
     "name": "stdout",
     "output_type": "stream",
     "text": [
      "NP can be disambiguated with the model NP:NP_S\n",
      "NPs can be disambiguated with the model NP:NP_S\n"
     ]
    }
   ],
   "source": [
    "print('NP can be disambiguated with the model %s' % available_shortforms['NP'])\n",
    "print('NPs can be disambiguated with the model %s' % available_shortforms['NPs'])"
   ]
  },
  {
   "cell_type": "markdown",
   "metadata": {},
   "source": [
    "A pretrained disambiguator can be loaded as follows"
   ]
  },
  {
   "cell_type": "code",
   "execution_count": 1,
   "metadata": {},
   "outputs": [],
   "source": [
    "from adeft.disambiguate import load_disambiguator\n",
    "ir = load_disambiguator('IR')"
   ]
  },
  {
   "cell_type": "code",
   "execution_count": 2,
   "metadata": {},
   "outputs": [
    {
     "name": "stdout",
     "output_type": "stream",
     "text": [
      "Disambiguation model for IR\n",
      "\n",
      "Produces the disambiguations:\n",
      "\tRadiation, Ionizing*\tMESH:D011839\n",
      "\tInsulin Resistance\tMESH:D007333\n",
      "\tINSR*\tHGNC:6091\n",
      "\tReperfusion Injury\tMESH:D015427\n",
      "\n",
      "Training data had class balance:\n",
      "\tRadiation, Ionizing*\t2703\n",
      "\tInsulin Resistance\t1495\n",
      "\tINSR*\t1460\n",
      "\tReperfusion Injury\t881\n",
      "\tUngrounded\t726\n",
      "\n",
      "Classification Metrics:\n",
      "\tF1 score:\t0.9741\n",
      "\tPrecision:\t0.97399\n",
      "\tRecall:\t\t0.9743\n",
      "\n",
      "Weighted average of metrics over positive labels.\n",
      "Weighted by number of datapoints for each positive label.\n",
      "Positive labels denoted with * in above lists.\n",
      "\n"
     ]
    }
   ],
   "source": [
    "print(ir.info())"
   ]
  },
  {
   "cell_type": "code",
   "execution_count": 3,
   "metadata": {},
   "outputs": [
    {
     "data": {
      "text/plain": [
       "{'MESH:D011839': 'Radiation, Ionizing',\n",
       " 'MESH:D007333': 'Insulin Resistance',\n",
       " 'HGNC:6091': 'INSR',\n",
       " 'MESH:D015427': 'Reperfusion Injury'}"
      ]
     },
     "execution_count": 3,
     "metadata": {},
     "output_type": "execute_result"
    }
   ],
   "source": [
    "ir.names"
   ]
  },
  {
   "cell_type": "code",
   "execution_count": null,
   "metadata": {},
   "outputs": [],
   "source": [
    "000"
   ]
  }
 ],
 "metadata": {
  "kernelspec": {
   "display_name": "Python 3",
   "language": "python",
   "name": "python3"
  },
  "language_info": {
   "codemirror_mode": {
    "name": "ipython",
    "version": 3
   },
   "file_extension": ".py",
   "mimetype": "text/x-python",
   "name": "python",
   "nbconvert_exporter": "python",
   "pygments_lexer": "ipython3",
   "version": "3.7.2"
  }
 },
 "nbformat": 4,
 "nbformat_minor": 2
}
