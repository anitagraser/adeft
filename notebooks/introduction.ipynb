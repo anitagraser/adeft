{
 "cells": [
  {
   "cell_type": "markdown",
   "metadata": {},
   "source": [
    "# Adeft\n",
    "\n",
    "Acromine based Disambiguation of Entities From Text context. A utility for building models to disambiguate acronyms and other abbreviations of biological terms mentioned in the scientific literature. It uses an implementation of the [Acromine](http://www.chokkan.org/research/acromine/) algorithm developed by the [NaCTeM](http://www.nactem.ac.uk/index.php) at the University of Manchester to identify possible longform expansions for shortforms in text corpora. Allows building of models to disambiguate shortforms in literature based on the context in which they appear. A growing number of pretrained disambiguation models are available for download through Adeft."
   ]
  },
  {
   "cell_type": "markdown",
   "metadata": {},
   "source": [
    "## Installation\n",
    "\n",
    "Adeft is available on PyPI and works with Python versions 3.5 and above. It can be installed with the command\n",
    "```bash\n",
    "$ pip install adeft\n",
    "```\n",
    "\n",
    "Pretrained disambiguation models can be downloaded with the command\n",
    "```bash\n",
    "$ python -m adeft.download\n",
    "```\n",
    "\n",
    "Models will be stored in the users home directory in a hidden folder named *.adeft_models*\n",
    "\n",
    "To update existing models, the user can run\n",
    "```bash\n",
    "$ python -m adeft.download --update\n",
    "```"
   ]
  },
  {
   "cell_type": "markdown",
   "metadata": {},
   "source": [
    "## Loading pretrained models\n",
    "\n",
    "A dictionary listing shortforms with available models can be imported as follows\n"
   ]
  },
  {
   "cell_type": "code",
   "execution_count": 19,
   "metadata": {},
   "outputs": [
    {
     "name": "stdout",
     "output_type": "stream",
     "text": [
      "{'PC': 'PC', 'EMT': 'EMT', 'SP': 'SP', 'PE': 'PE', 'ROS': 'ROS', 'NP': 'NP:NP_S', 'NPs': 'NP:NP_S', 'MS': 'MS', 'MT': 'MT', 'BP': 'BP', 'GH': 'GH', 'AD': 'AD', 'GT': 'GT', 'DA': 'DA', 'GR': 'GR', 'IR': 'IR', 'HK2': 'HK2', 'ARF': 'ARF', 'CS': 'CS', 'EC': 'EC', 'STD': 'STD', 'PD1': 'PD1', 'TGH': 'TGH', 'PKD': 'PKD', 'RA': 'RA', 'PCP': 'PCP', 'PI': 'PI', 'PS': 'PS', 'PA': 'PA', 'MB': 'MB', 'HA': 'HA', 'AR': 'AR', 'HR': 'HR', 'NE': 'NE', 'UBC': 'UBC', 'GSC': 'GSC', 'AA': 'AA', 'NIS': 'NIS', 'GC': 'GC', 'CM': 'CM', 'RB': 'RB:R_B', 'Rb': 'RB:R_B', 'LH': 'LH', 'ER': 'ER', 'TF': 'TF', 'PGP': 'PGP', 'MCT': 'MCT', 'TG': 'TG'}\n"
     ]
    }
   ],
   "source": [
    "from adeft import available_shortforms\n",
    "\n",
    "print(available_shortforms)"
   ]
  },
  {
   "cell_type": "markdown",
   "metadata": {},
   "source": [
    "The dictionary maps shortforms to model names. It's possible and often desirable for synonymous shortforms to share a model. For example NP and NPs (often standing for nanoparticles) share a model."
   ]
  },
  {
   "cell_type": "code",
   "execution_count": 20,
   "metadata": {},
   "outputs": [
    {
     "name": "stdout",
     "output_type": "stream",
     "text": [
      "NP can be disambiguated with the model NP:NP_S\n",
      "NPs can be disambiguated with the model NP:NP_S\n"
     ]
    }
   ],
   "source": [
    "print('NP can be disambiguated with the model %s' % available_shortforms['NP'])\n",
    "print('NPs can be disambiguated with the model %s' % available_shortforms['NPs'])"
   ]
  },
  {
   "cell_type": "markdown",
   "metadata": {},
   "source": [
    "A pretrained disambiguator can be loaded as follows"
   ]
  },
  {
   "cell_type": "code",
   "execution_count": 21,
   "metadata": {},
   "outputs": [],
   "source": [
    "from adeft.disambiguate import load_disambiguator\n",
    "\n",
    "ir = load_disambiguator('IR')"
   ]
  },
  {
   "cell_type": "markdown",
   "metadata": {},
   "source": [
    "Disambiguators have a method, info, that produces a summary of relevant information. Users can see the disambiguations a model can produce, the class balance of labels in the models training data, and metrics describing the models crossvalidated performance on the training data. Depending on how the model was trained, classification metrics may or may not be available."
   ]
  },
  {
   "cell_type": "code",
   "execution_count": 22,
   "metadata": {},
   "outputs": [
    {
     "name": "stdout",
     "output_type": "stream",
     "text": [
      "Disambiguation model for IR\n",
      "\n",
      "Produces the disambiguations:\n",
      "\tRadiation, Ionizing*\tMESH:D011839\n",
      "\tInsulin Resistance\tMESH:D007333\n",
      "\tINSR*\tHGNC:6091\n",
      "\tReperfusion Injury\tMESH:D015427\n",
      "\n",
      "Training data had class balance:\n",
      "\tRadiation, Ionizing*\t2703\n",
      "\tInsulin Resistance\t1495\n",
      "\tINSR*\t1460\n",
      "\tReperfusion Injury\t881\n",
      "\tUngrounded\t726\n",
      "\n",
      "Classification Metrics:\n",
      "\tF1 score:\t0.9741\n",
      "\tPrecision:\t0.97399\n",
      "\tRecall:\t\t0.9743\n",
      "\n",
      "* Positive labels\n",
      "See Docstring for explanation\n",
      "\n"
     ]
    }
   ],
   "source": [
    "print(ir.info())"
   ]
  },
  {
   "cell_type": "markdown",
   "metadata": {},
   "source": [
    "The labels that appear appended with a star are the positive labels for calculating the classification metrics. For cases where there are multiple positive labels, adeft takes the weighted average of these metrics for each positive label weighted by the frequency of each label in the test data."
   ]
  },
  {
   "cell_type": "markdown",
   "metadata": {},
   "source": [
    "## Disambiguating\n",
    "\n",
    "Adeft first searches for defining patterns (DPs) in a text to produce a disambiguation. A defining pattern (DP) consists of a longform followed by its shortform contained in parentheses. DPs for DP and DPs appear in the previous two sentences"
   ]
  },
  {
   "cell_type": "code",
   "execution_count": 23,
   "metadata": {},
   "outputs": [],
   "source": [
    "example1 = ('Ionizing radiation (IR) is radiation that carries enough energy to detach electrons'\n",
    "            ' from atoms or molecules')"
   ]
  },
  {
   "cell_type": "code",
   "execution_count": 24,
   "metadata": {},
   "outputs": [
    {
     "data": {
      "text/plain": [
       "('MESH:D011839',\n",
       " 'Radiation, Ionizing',\n",
       " {'ungrounded': 0.0,\n",
       "  'MESH:D011839': 1.0,\n",
       "  'HGNC:6091': 0.0,\n",
       "  'MESH:D007333': 0.0,\n",
       "  'MESH:D015427': 0.0})"
      ]
     },
     "execution_count": 24,
     "metadata": {},
     "output_type": "execute_result"
    }
   ],
   "source": [
    "ir.disambiguate(example1)"
   ]
  },
  {
   "cell_type": "markdown",
   "metadata": {},
   "source": [
    "The disambiguate method returns a tuple containing three elements: a grounding consisting of a name space and an ID separated by a colon, a standard name for the grounding, and a dictionary mapping possible groundings to confidence scores. Since a defining pattern exists in this instance, adeft has 100% confidence.\n",
    "\n",
    "### Name Spaces\n",
    "Currently pretrained Adeft models ground shortforms to the namespaces.\n",
    "* [Hugo Gene Nomenclature](https://www.genenames.org/) (HGNC)\n",
    "* [FamPlex](https://github.com/sorgerlab/famplex) (FPLX)\n",
    "* [Gene Ontology](http://geneontology.org/) (GO)\n",
    "* [Medical Subject Headings](https://meshb.nlm.nih.gov/search) (MESH)\n",
    "* [Chemical Entities of Biological Interest](https://www.ebi.ac.uk/chebi/) (CHEBI)\n",
    "\n",
    "'ungrounded' refers to entities for which adeft recognizes a defining pattern for which it has no grounding."
   ]
  },
  {
   "cell_type": "markdown",
   "metadata": {},
   "source": [
    "### Classification models\n",
    "\n",
    "Adeft users logistic regression models to disambiguate shortforms in texts where it is unable to find a defining pattern."
   ]
  },
  {
   "cell_type": "code",
   "execution_count": 32,
   "metadata": {},
   "outputs": [],
   "source": [
    "example2 = 'IR is radiation that carries enough energy to detach electrons from atoms or molecules'\n",
    "    "
   ]
  },
  {
   "cell_type": "code",
   "execution_count": 33,
   "metadata": {},
   "outputs": [
    {
     "data": {
      "text/plain": [
       "('ungrounded',\n",
       " None,\n",
       " {'HGNC:6091': 6.170832364054513e-06,\n",
       "  'MESH:D007333': 8.372841531299755e-06,\n",
       "  'MESH:D011839': 1.7851753682531277e-05,\n",
       "  'MESH:D015427': 2.8970274945505494e-06,\n",
       "  'ungrounded': 0.9999647075449276})"
      ]
     },
     "execution_count": 33,
     "metadata": {},
     "output_type": "execute_result"
    }
   ],
   "source": [
    "ir.disambiguate(example2)"
   ]
  },
  {
   "cell_type": "markdown",
   "metadata": {},
   "source": [
    "In this case Adeft is unconfident in its grounding because the input text is shorter than ideal. Adeft's models are designed to work with global text context at the abstract or fulltext level. In practice, we've found best performance when using the concatenation of all paragraphs in a fulltext containing the shortform as input.\n",
    "\n",
    "We next disambiguate IR within a longer text."
   ]
  },
  {
   "cell_type": "code",
   "execution_count": 34,
   "metadata": {},
   "outputs": [],
   "source": [
    "with open('data/example.txt') as f:\n",
    "    example3 = f.read()"
   ]
  },
  {
   "cell_type": "code",
   "execution_count": 35,
   "metadata": {
    "scrolled": true
   },
   "outputs": [
    {
     "name": "stdout",
     "output_type": "stream",
     "text": [
      "Rates of diabetes are reaching epidemic levels. The key problem in both type 1 and type 2 diabetes is dysfunctional insulin signaling, either due to lack of production or due to impaired insulin sensitivity. A key feature of diabetic retinopathy in animal models is degenerate capillary formation. The goal of this present study was to investigate a potential mechanism for retinal endothelial cell apoptosis in response to hyperglycemia. The hypothesis was that hyperglycemia-induced TNFα leads to retinal endothelial cell apoptosis through inhibition of insulin signaling. To test the hypothesis, primary human retinal endothelial cells were grown in normal glucose (5 mM) or high glucose (25 mM) and treated with exogenous TNFα, TNFα siRNA or suppressor of cytokine signaling 3 (SOCS3) siRNA. Cell lysates were processed for Western blotting and ELISA analyses to verify TNFα and SOCS3 knockdown, as well as key pro- and anti-apoptotic factors, IRS-1, and Akt. Data indicate that high glucose culturing conditions significantly increase TNFα and SOCS3 protein levels. Knockdown of TNFα and SOCS3 significantly increases anti-apoptotic proteins, while decreasing pro-apoptotic proteins. Knockdown of TNFα leads to decreased phosphorylation of IRS-1 Ser307 , which would promote normal insulin signaling. Knockdown of SOCS3 increased total IRS-1 levels, as well as decreased IR Tyr960 , both of which would inhibit retinal endothelial cell apoptosis through increased insulin signaling. Taken together, our findings suggest that increased TNFα inhibits insulin signaling in 2 ways: 1) increased phosphorylation of IRS-1 Ser307 , 2) increased SOCS3 levels to decrease total IRS-1 and increase IR Tyr960 , both of which block normal insulin signal transduction. Resolution of the hyperglycemia-induced TNFα levels in retinal endothelial cells may prevent apoptosis through disinhibition of insulin receptor signaling.\n",
      "Based upon on our hypothesis, increased TNFα levels observed in response to high glucose should increase SOCS3 levels, such that either TNFα or high glucose treatment leads to the increased SOCS3 protein levels observed in  Fig. 1A  (* P <0.05 vs. NG not-treated), which is eliminated when cells are treated with TNFα siRNA ( Fig. 1C , # P <0.05 vs. HG NT). SOCS3 has been reported to lead to increased phosphorylation of insulin receptor on tyrosine 960, which eliminates insulin receptor/IRS-1 binding in hepatoma cells [ 28 ]; therefore one would expect increased SOCS3 levels and increased phosphorylation of insulin receptor on tyrosine 960 compared to untreated high glucose treated retinal endothelial cells. This response should be eliminated when TNFα siRNA is applied to REC cultured in high glucose, suggesting this is a TNFα-mediated event. Indeed, treatment with TNFα increased IR Tyr960  phosphorylation, which was reduced when TNFα is knocked down ( Fig. 1D , # P <0.05 vs. HG scsiRNA).\n",
      "While increased SOCS3/IR Tyr960  is one pathway by which TNFα may induce insulin resistance and REC apoptosis [ 28 ], TNFα can also increase serine 307 phosphorylation on IRS-1 to insulin receptor signaling, eliminating Akt activation [ 20 ]. Data in the REC treated with high glucose and TNFα show increased IRS-1 Ser307  ( Fig. 2 , * P <0.05 vs. NG NT), while cells treated with TNFα siRNA have significantly reduced IRS-1 Ser307  levels ( Fig. 2 , # P <0.05 vs. HG NT and HG TNFα).\n",
      "Since both increased IRS-1 Ser307  or increased SOCS3/IR Tyr960  levels can induce insulin resistance, leading to cell death, we measured cell death proteins (caspase 3, cytochrome c, Bax) and cell survival proteins (Akt, Bcl-xL) in REC treated in normal and high glucose alone and following TNFα siRNA application. Analyses of all key cell death/survival proteins suggest that knockdown of TNFα can eliminate the effects of hyperglycemia on REC ( Fig. 3 ).\n",
      "Since hyperglycemic culturing conditions increased TNFα to increase SOCS3, we used SOCS3 siRNA to determine whether SOCS3 is directly involved in the changes in total IRS-1 (leading to degradation) or insulin receptor phosphorylation on tyrosine 960 (inhibiting insulin receptor/IRS-1 binding). Data indicate that knockdown of SOCS3 leads to a significant increase in total IRS-1 levels ( Fig. 5 , # P <0.05 vs. HG scsiRNA treated REC), suggesting that SOCS3 directly regulates IRS-1 levels in REC cultured in high glucose. This is further supported by data in REC cultured in high glucose treated with SOCS3 siRNA and probed for IR Tyr960  (inhibitory site to IR/IRS-1 binding). In high glucose conditions, IR Tyr960  is increased, which would decrease insulin receptor/IRS-1 binding ( Fig. 6  * P <0.05 vs. NG) but it is inhibited after SOCS3 siRNA application ( Fig. 6 , # P <0.05 vs. HG only), suggesting that SOCS3 does inhibit IR/IRS-1 binding activities.\n",
      "While TNFα can directly inhibit insulin signaling through its phosphorylation of IRS-1 Ser307 , it also can activate the SOCS proteins [ 30 ], which can also block insulin signaling. In our work, we show that high glucose leads to increased SOCS3 levels in retinal endothelial cells. Activation of SOCS3 can lead to insulin resistance in 2 separate ways: increased insulin receptor phosphorylation on tyrosine 960 [ 42 ] or through IRS-1 degradation by proteasomes [ 29 ]. In these experiments with knockdown of SOCS3, we found that SOCS3 likely inhibits insulin signaling in both ways in retinal endothelial cells, as we found decreased IR Tyr960  phosphorylation and increased total IRS-1 levels following SOCS3 siRNA application. Taken together, these data suggest that hyperglycemia-induced TNFα increases SOCS3 levels and actions in human retinal endothelial cells, which likely contributes to increased insulin resistance and endothelial cell death.\n",
      "\n"
     ]
    }
   ],
   "source": [
    "print(example3)"
   ]
  },
  {
   "cell_type": "markdown",
   "metadata": {},
   "source": [
    "This example could be tricky since insulin receptor and insulin resistance both appear in the text in close proximity to IR, but enough context is provided for Adeft to produce the correct disambiguation."
   ]
  },
  {
   "cell_type": "code",
   "execution_count": 36,
   "metadata": {},
   "outputs": [
    {
     "data": {
      "text/plain": [
       "('HGNC:6091',\n",
       " 'INSR',\n",
       " {'HGNC:6091': 0.9997547325118725,\n",
       "  'MESH:D007333': 0.0002120018198221942,\n",
       "  'MESH:D011839': 1.7078421061932351e-06,\n",
       "  'MESH:D015427': 2.8792336629004848e-05,\n",
       "  'ungrounded': 2.765489570281673e-06})"
      ]
     },
     "execution_count": 36,
     "metadata": {},
     "output_type": "execute_result"
    }
   ],
   "source": [
    "ir.disambiguate(example3)"
   ]
  },
  {
   "cell_type": "markdown",
   "metadata": {},
   "source": [
    "### Batch Disambiguation\n",
    "The disambiguate method is also able to take lists of texts as input. In this case it will return a list of disambiguation results. Disambiguating a list of texts is optimized and will run slightly faster than disambiguating each text separately, though this will only be noticeable when disambiguating large batches of text."
   ]
  },
  {
   "cell_type": "code",
   "execution_count": 37,
   "metadata": {},
   "outputs": [
    {
     "name": "stdout",
     "output_type": "stream",
     "text": [
      "1.5 ms ± 64.4 µs per loop (mean ± std. dev. of 7 runs, 100 loops each)\n"
     ]
    }
   ],
   "source": [
    "%timeit -n 100 ir.disambiguate([example1, example2, example3])"
   ]
  },
  {
   "cell_type": "code",
   "execution_count": 38,
   "metadata": {},
   "outputs": [
    {
     "name": "stdout",
     "output_type": "stream",
     "text": [
      "1.93 ms ± 55.7 µs per loop (mean ± std. dev. of 7 runs, 100 loops each)\n"
     ]
    }
   ],
   "source": [
    "%timeit -n 100 [ir.disambiguate(text) for text in [example1, example2, example3]]"
   ]
  },
  {
   "cell_type": "markdown",
   "metadata": {},
   "source": [
    "## Conclusion\n",
    "\n",
    "We've covered how to use Adeft's pretrained disambiguation models. For information on how to build your own models please see [Model Building](model_building.ipynb)."
   ]
  }
 ],
 "metadata": {
  "kernelspec": {
   "display_name": "Python 3",
   "language": "python",
   "name": "python3"
  },
  "language_info": {
   "codemirror_mode": {
    "name": "ipython",
    "version": 3
   },
   "file_extension": ".py",
   "mimetype": "text/x-python",
   "name": "python",
   "nbconvert_exporter": "python",
   "pygments_lexer": "ipython3",
   "version": "3.7.2"
  }
 },
 "nbformat": 4,
 "nbformat_minor": 2
}
