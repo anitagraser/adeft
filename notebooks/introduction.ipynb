{
 "cells": [
  {
   "cell_type": "markdown",
   "metadata": {},
   "source": [
    "# Adeft\n",
    "\n",
    "Acromine based Disambiguation of Entities From Text context. A utility for building models to disambiguate acronyms and other abbreviations of biological terms mentioned in the scientific literature. It uses an implementation of the [Acromine](http://www.chokkan.org/research/acromine/) algorithm developed by the [NaCTeM](http://www.nactem.ac.uk/index.php) at the University of Manchester to identify possible longform expansions for shortforms in text corpora. Allows building of models to disambiguate shortforms in literature based on the context in which they appear. A growing number of pretrained disambiguation models are available for download through Adeft."
   ]
  },
  {
   "cell_type": "markdown",
   "metadata": {},
   "source": [
    "## Installation\n",
    "\n",
    "Adeft is available on PyPI and works with Python versions 3.5 and above. It can be installed with the command\n",
    "```bash\n",
    "$ pip install adeft\n",
    "```\n",
    "\n",
    "Pretrained disambiguation models can be downloaded with the command\n",
    "```bash\n",
    "$ python -m adeft.download\n",
    "```\n",
    "\n",
    "Models will be stored in the users home directory in a hidden folder named *.adeft_models*\n",
    "\n",
    "To update existing models, the user can run\n",
    "```bash\n",
    "$ python -m adeft.download --update\n",
    "```"
   ]
  },
  {
   "cell_type": "markdown",
   "metadata": {},
   "source": [
    "## Loading pretrained models\n",
    "\n",
    "A dictionary listing shortforms with available models can be imported as follows\n"
   ]
  },
  {
   "cell_type": "code",
   "execution_count": null,
   "metadata": {},
   "outputs": [],
   "source": [
    "from adeft import available_shortforms\n",
    "\n",
    "print(available_shortforms)"
   ]
  },
  {
   "cell_type": "markdown",
   "metadata": {},
   "source": [
    "The dictionary maps shortforms to model names. It's possible and often desirable for synonymous shortforms to share a model. For example NP and NPs (often standing for nanoparticles) share a model."
   ]
  },
  {
   "cell_type": "code",
   "execution_count": null,
   "metadata": {},
   "outputs": [],
   "source": [
    "print('NP can be disambiguated with the model %s' % available_shortforms['NP'])\n",
    "print('NPs can be disambiguated with the model %s' % available_shortforms['NPs'])"
   ]
  },
  {
   "cell_type": "markdown",
   "metadata": {},
   "source": [
    "A pretrained disambiguator can be loaded as follows"
   ]
  },
  {
   "cell_type": "code",
   "execution_count": null,
   "metadata": {},
   "outputs": [],
   "source": [
    "from adeft.disambiguate import load_disambiguator\n",
    "\n",
    "ir = load_disambiguator('IR')"
   ]
  },
  {
   "cell_type": "markdown",
   "metadata": {},
   "source": [
    "Disambiguators have a method, info, that produces a summary of relevant information. Users can see the disambiguations a model can produce, the class balance of labels in the models training data, and metrics describing the models crossvalidated performance on the training data. Depending on how the model was trained, classification metrics may or may not be available."
   ]
  },
  {
   "cell_type": "code",
   "execution_count": null,
   "metadata": {},
   "outputs": [],
   "source": [
    "print(ir.info())"
   ]
  },
  {
   "cell_type": "markdown",
   "metadata": {},
   "source": [
    "The labels that appear appended with a star are the positive labels for calculating the classification metrics. For cases where there are multiple positive labels, adeft takes the weighted average of these metrics for each positive label weighted by the frequency of each label in the test data."
   ]
  },
  {
   "cell_type": "markdown",
   "metadata": {},
   "source": [
    "## Disambiguating\n",
    "\n",
    "Adeft first searches for defining patterns (DPs) in a text to produce a disambiguation. A defining pattern (DP) consists of a longform followed by its shortform contained in parentheses. DPs for DP and DPs appear in the previous two sentences"
   ]
  },
  {
   "cell_type": "code",
   "execution_count": null,
   "metadata": {},
   "outputs": [],
   "source": [
    "example1 = ('Ionizing radiation (IR) is radiation that carries enough energy to detach electrons'\n",
    "            ' from atoms or molecules')"
   ]
  },
  {
   "cell_type": "code",
   "execution_count": null,
   "metadata": {},
   "outputs": [],
   "source": [
    "ir.disambiguate(example1)"
   ]
  },
  {
   "cell_type": "markdown",
   "metadata": {},
   "source": [
    "The disambiguate method returns a tuple containing three elements: a grounding consisting of a name space and an ID separated by a colon, a standard name for the grounding, and a dictionary mapping possible groundings to confidence scores. Since a defining pattern exists in this instance, adeft has 100% confidence.\n",
    "\n",
    "### Name Spaces\n",
    "Currently pretrained Adeft models ground shortforms to the namespaces.\n",
    "* [Hugo Gene Nomenclature](https://www.genenames.org/) (HGNC)\n",
    "* [FamPlex](https://github.com/sorgerlab/famplex) (FPLX)\n",
    "* [Gene Ontology](http://geneontology.org/) (GO)\n",
    "* [Medical Subject Headings](https://meshb.nlm.nih.gov/search) (MESH)\n",
    "* [Chemical Entities of Biological Interest](https://www.ebi.ac.uk/chebi/) (CHEBI)\n",
    "\n",
    "'ungrounded' refers to entities for which adeft recognizes a defining pattern for which it has no grounding."
   ]
  },
  {
   "cell_type": "markdown",
   "metadata": {},
   "source": [
    "### Classification models\n",
    "\n",
    "Adeft users logistic regression models to disambiguate shortforms in texts where it is unable to find a defining pattern."
   ]
  },
  {
   "cell_type": "code",
   "execution_count": null,
   "metadata": {},
   "outputs": [],
   "source": [
    "example2 = 'IR is radiation that carries enough energy to detach electrons from atoms or molecules'\n",
    "    "
   ]
  },
  {
   "cell_type": "code",
   "execution_count": null,
   "metadata": {},
   "outputs": [],
   "source": [
    "ir.disambiguate(example2)"
   ]
  },
  {
   "cell_type": "markdown",
   "metadata": {},
   "source": [
    "In this case Adeft is unconfident in its grounding because the input text is shorter than ideal. Adeft's models are designed to work with global text context at the abstract or fulltext level. In practice, we've found best performance when using the concatenation of all paragraphs in a fulltext containing the shortform as input.\n",
    "\n",
    "We next disambiguate IR within a longer text."
   ]
  },
  {
   "cell_type": "code",
   "execution_count": null,
   "metadata": {},
   "outputs": [],
   "source": [
    "with open('data/example.txt') as f:\n",
    "    example3 = f.read()"
   ]
  },
  {
   "cell_type": "code",
   "execution_count": null,
   "metadata": {
    "scrolled": true
   },
   "outputs": [],
   "source": [
    "print(example3)"
   ]
  },
  {
   "cell_type": "markdown",
   "metadata": {},
   "source": [
    "This example could be tricky since insulin receptor and insulin resistance both appear in the text in close proximity to IR, but enough context is provided for Adeft to produce the correct disambiguation."
   ]
  },
  {
   "cell_type": "code",
   "execution_count": null,
   "metadata": {},
   "outputs": [],
   "source": [
    "ir.disambiguate(example3)"
   ]
  },
  {
   "cell_type": "markdown",
   "metadata": {},
   "source": [
    "### Batch Disambiguation\n",
    "The disambiguate method is also able to take lists of texts as input. In this case it will return a list of disambiguation results. Disambiguating a list of texts is optimized and will run slightly faster than disambiguating each text separately, though this will only be noticeable when disambiguating large batches of text."
   ]
  },
  {
   "cell_type": "code",
   "execution_count": null,
   "metadata": {},
   "outputs": [],
   "source": [
    "%timeit -n 100 ir.disambiguate([example1, example2, example3])"
   ]
  },
  {
   "cell_type": "code",
   "execution_count": null,
   "metadata": {},
   "outputs": [],
   "source": [
    "%timeit -n 100 [ir.disambiguate(text) for text in [example1, example2, example3]]"
   ]
  },
  {
   "cell_type": "markdown",
   "metadata": {},
   "source": [
    "## Conclusion\n",
    "\n",
    "We've covered how to use Adeft's pretrained disambiguation models. For information on how to build your own models please see [Model Building](model_building.ipynb)."
   ]
  }
 ],
 "metadata": {
  "kernelspec": {
   "display_name": "Python 3",
   "language": "python",
   "name": "python3"
  },
  "language_info": {
   "codemirror_mode": {
    "name": "ipython",
    "version": 3
   },
   "file_extension": ".py",
   "mimetype": "text/x-python",
   "name": "python",
   "nbconvert_exporter": "python",
   "pygments_lexer": "ipython3",
   "version": "3.7.2"
  }
 },
 "nbformat": 4,
 "nbformat_minor": 2
}
